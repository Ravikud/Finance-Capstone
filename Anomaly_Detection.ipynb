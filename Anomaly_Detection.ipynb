{
 "cells": [
  {
   "cell_type": "code",
   "execution_count": 1,
   "metadata": {},
   "outputs": [],
   "source": [
    "import pandas as pd\n",
    "import numpy as np\n",
    "import sklearn\n",
    "import matplotlib.pyplot as plt\n",
    "import seaborn as sns\n",
    "from pylab import rcParams\n",
    "\n",
    "from sklearn.linear_model import LogisticRegression\n",
    "from sklearn.model_selection import train_test_split\n",
    "from sklearn.metrics import accuracy_score,classification_report\n",
    "rcParams['figure.figsize']=14,8\n",
    "RANDOM_SEED=42\n",
    "LABELS=[\"Normal\",\"Fraud\"]"
   ]
  },
  {
   "cell_type": "code",
   "execution_count": 2,
   "metadata": {},
   "outputs": [],
   "source": [
    "dftrain = pd.read_csv(\"D:/Python/Financial/train_data.csv\")"
   ]
  },
  {
   "cell_type": "code",
   "execution_count": 4,
   "metadata": {},
   "outputs": [
    {
     "name": "stdout",
     "output_type": "stream",
     "text": [
      "<class 'pandas.core.frame.DataFrame'>\n",
      "RangeIndex: 227845 entries, 0 to 227844\n",
      "Data columns (total 31 columns):\n",
      " #   Column  Non-Null Count   Dtype  \n",
      "---  ------  --------------   -----  \n",
      " 0   Time    227845 non-null  float64\n",
      " 1   V1      227845 non-null  float64\n",
      " 2   V2      227845 non-null  float64\n",
      " 3   V3      227845 non-null  float64\n",
      " 4   V4      227845 non-null  float64\n",
      " 5   V5      227845 non-null  float64\n",
      " 6   V6      227845 non-null  float64\n",
      " 7   V7      227845 non-null  float64\n",
      " 8   V8      227845 non-null  float64\n",
      " 9   V9      227845 non-null  float64\n",
      " 10  V10     227845 non-null  float64\n",
      " 11  V11     227845 non-null  float64\n",
      " 12  V12     227845 non-null  float64\n",
      " 13  V13     227845 non-null  float64\n",
      " 14  V14     227845 non-null  float64\n",
      " 15  V15     227845 non-null  float64\n",
      " 16  V16     227845 non-null  float64\n",
      " 17  V17     227845 non-null  float64\n",
      " 18  V18     227845 non-null  float64\n",
      " 19  V19     227845 non-null  float64\n",
      " 20  V20     227845 non-null  float64\n",
      " 21  V21     227845 non-null  float64\n",
      " 22  V22     227845 non-null  float64\n",
      " 23  V23     227845 non-null  float64\n",
      " 24  V24     227845 non-null  float64\n",
      " 25  V25     227845 non-null  float64\n",
      " 26  V26     227845 non-null  float64\n",
      " 27  V27     227845 non-null  float64\n",
      " 28  V28     227845 non-null  float64\n",
      " 29  Amount  227845 non-null  float64\n",
      " 30  Class   227845 non-null  int64  \n",
      "dtypes: float64(30), int64(1)\n",
      "memory usage: 53.9 MB\n"
     ]
    }
   ],
   "source": [
    "dftrain.info()"
   ]
  },
  {
   "cell_type": "code",
   "execution_count": 5,
   "metadata": {},
   "outputs": [
    {
     "data": {
      "text/html": [
       "<div>\n",
       "<style scoped>\n",
       "    .dataframe tbody tr th:only-of-type {\n",
       "        vertical-align: middle;\n",
       "    }\n",
       "\n",
       "    .dataframe tbody tr th {\n",
       "        vertical-align: top;\n",
       "    }\n",
       "\n",
       "    .dataframe thead th {\n",
       "        text-align: right;\n",
       "    }\n",
       "</style>\n",
       "<table border=\"1\" class=\"dataframe\">\n",
       "  <thead>\n",
       "    <tr style=\"text-align: right;\">\n",
       "      <th></th>\n",
       "      <th>Time</th>\n",
       "      <th>V1</th>\n",
       "      <th>V2</th>\n",
       "      <th>V3</th>\n",
       "      <th>V4</th>\n",
       "      <th>V5</th>\n",
       "      <th>V6</th>\n",
       "      <th>V7</th>\n",
       "      <th>V8</th>\n",
       "      <th>V9</th>\n",
       "      <th>...</th>\n",
       "      <th>V21</th>\n",
       "      <th>V22</th>\n",
       "      <th>V23</th>\n",
       "      <th>V24</th>\n",
       "      <th>V25</th>\n",
       "      <th>V26</th>\n",
       "      <th>V27</th>\n",
       "      <th>V28</th>\n",
       "      <th>Amount</th>\n",
       "      <th>Class</th>\n",
       "    </tr>\n",
       "  </thead>\n",
       "  <tbody>\n",
       "    <tr>\n",
       "      <th>0</th>\n",
       "      <td>38355.0</td>\n",
       "      <td>1.043949</td>\n",
       "      <td>0.318555</td>\n",
       "      <td>1.045810</td>\n",
       "      <td>2.805989</td>\n",
       "      <td>-0.561113</td>\n",
       "      <td>-0.367956</td>\n",
       "      <td>0.032736</td>\n",
       "      <td>-0.042333</td>\n",
       "      <td>-0.322674</td>\n",
       "      <td>...</td>\n",
       "      <td>-0.240105</td>\n",
       "      <td>-0.680315</td>\n",
       "      <td>0.085328</td>\n",
       "      <td>0.684812</td>\n",
       "      <td>0.318620</td>\n",
       "      <td>-0.204963</td>\n",
       "      <td>0.001662</td>\n",
       "      <td>0.037894</td>\n",
       "      <td>49.67</td>\n",
       "      <td>0</td>\n",
       "    </tr>\n",
       "    <tr>\n",
       "      <th>1</th>\n",
       "      <td>22555.0</td>\n",
       "      <td>-1.665159</td>\n",
       "      <td>0.808440</td>\n",
       "      <td>1.805627</td>\n",
       "      <td>1.903416</td>\n",
       "      <td>-0.821627</td>\n",
       "      <td>0.934790</td>\n",
       "      <td>-0.824802</td>\n",
       "      <td>0.975890</td>\n",
       "      <td>1.747469</td>\n",
       "      <td>...</td>\n",
       "      <td>-0.335332</td>\n",
       "      <td>-0.510994</td>\n",
       "      <td>0.035839</td>\n",
       "      <td>0.147565</td>\n",
       "      <td>-0.529358</td>\n",
       "      <td>-0.566950</td>\n",
       "      <td>-0.595998</td>\n",
       "      <td>-0.220086</td>\n",
       "      <td>16.94</td>\n",
       "      <td>0</td>\n",
       "    </tr>\n",
       "    <tr>\n",
       "      <th>2</th>\n",
       "      <td>2431.0</td>\n",
       "      <td>-0.324096</td>\n",
       "      <td>0.601836</td>\n",
       "      <td>0.865329</td>\n",
       "      <td>-2.138000</td>\n",
       "      <td>0.294663</td>\n",
       "      <td>-1.251553</td>\n",
       "      <td>1.072114</td>\n",
       "      <td>-0.334896</td>\n",
       "      <td>1.071268</td>\n",
       "      <td>...</td>\n",
       "      <td>0.012220</td>\n",
       "      <td>0.352856</td>\n",
       "      <td>-0.341505</td>\n",
       "      <td>-0.145791</td>\n",
       "      <td>0.094194</td>\n",
       "      <td>-0.804026</td>\n",
       "      <td>0.229428</td>\n",
       "      <td>-0.021623</td>\n",
       "      <td>1.00</td>\n",
       "      <td>0</td>\n",
       "    </tr>\n",
       "    <tr>\n",
       "      <th>3</th>\n",
       "      <td>86773.0</td>\n",
       "      <td>-0.258270</td>\n",
       "      <td>1.217501</td>\n",
       "      <td>-0.585348</td>\n",
       "      <td>-0.875347</td>\n",
       "      <td>1.222481</td>\n",
       "      <td>-0.311027</td>\n",
       "      <td>1.073860</td>\n",
       "      <td>-0.161408</td>\n",
       "      <td>0.200665</td>\n",
       "      <td>...</td>\n",
       "      <td>-0.424626</td>\n",
       "      <td>-0.781158</td>\n",
       "      <td>0.019316</td>\n",
       "      <td>0.178614</td>\n",
       "      <td>-0.315616</td>\n",
       "      <td>0.096665</td>\n",
       "      <td>0.269740</td>\n",
       "      <td>-0.020635</td>\n",
       "      <td>10.78</td>\n",
       "      <td>0</td>\n",
       "    </tr>\n",
       "    <tr>\n",
       "      <th>4</th>\n",
       "      <td>127202.0</td>\n",
       "      <td>2.142162</td>\n",
       "      <td>-0.494988</td>\n",
       "      <td>-1.936511</td>\n",
       "      <td>-0.818288</td>\n",
       "      <td>-0.025213</td>\n",
       "      <td>-1.027245</td>\n",
       "      <td>-0.151627</td>\n",
       "      <td>-0.305750</td>\n",
       "      <td>-0.869482</td>\n",
       "      <td>...</td>\n",
       "      <td>0.010115</td>\n",
       "      <td>0.021722</td>\n",
       "      <td>0.079463</td>\n",
       "      <td>-0.480899</td>\n",
       "      <td>0.023846</td>\n",
       "      <td>-0.279076</td>\n",
       "      <td>-0.030121</td>\n",
       "      <td>-0.043888</td>\n",
       "      <td>39.96</td>\n",
       "      <td>0</td>\n",
       "    </tr>\n",
       "    <tr>\n",
       "      <th>5</th>\n",
       "      <td>37590.0</td>\n",
       "      <td>-6.341667</td>\n",
       "      <td>1.192815</td>\n",
       "      <td>-3.686579</td>\n",
       "      <td>-2.754006</td>\n",
       "      <td>-5.007164</td>\n",
       "      <td>3.988118</td>\n",
       "      <td>1.693606</td>\n",
       "      <td>-13.577522</td>\n",
       "      <td>2.557965</td>\n",
       "      <td>...</td>\n",
       "      <td>9.779321</td>\n",
       "      <td>-3.660198</td>\n",
       "      <td>-1.507217</td>\n",
       "      <td>-0.179185</td>\n",
       "      <td>0.002092</td>\n",
       "      <td>-0.019168</td>\n",
       "      <td>3.611243</td>\n",
       "      <td>-0.894494</td>\n",
       "      <td>1437.08</td>\n",
       "      <td>0</td>\n",
       "    </tr>\n",
       "    <tr>\n",
       "      <th>6</th>\n",
       "      <td>56739.0</td>\n",
       "      <td>-0.463928</td>\n",
       "      <td>0.204745</td>\n",
       "      <td>2.795734</td>\n",
       "      <td>1.546200</td>\n",
       "      <td>-0.720374</td>\n",
       "      <td>1.108212</td>\n",
       "      <td>-0.581133</td>\n",
       "      <td>0.544075</td>\n",
       "      <td>1.099843</td>\n",
       "      <td>...</td>\n",
       "      <td>0.094431</td>\n",
       "      <td>0.788161</td>\n",
       "      <td>-0.100344</td>\n",
       "      <td>0.126248</td>\n",
       "      <td>-0.461584</td>\n",
       "      <td>-0.200985</td>\n",
       "      <td>0.280168</td>\n",
       "      <td>0.180046</td>\n",
       "      <td>11.10</td>\n",
       "      <td>0</td>\n",
       "    </tr>\n",
       "    <tr>\n",
       "      <th>7</th>\n",
       "      <td>912.0</td>\n",
       "      <td>-1.394619</td>\n",
       "      <td>0.554224</td>\n",
       "      <td>-0.617805</td>\n",
       "      <td>-0.313706</td>\n",
       "      <td>2.157413</td>\n",
       "      <td>3.537534</td>\n",
       "      <td>-0.567305</td>\n",
       "      <td>1.380888</td>\n",
       "      <td>-0.112291</td>\n",
       "      <td>...</td>\n",
       "      <td>-0.196300</td>\n",
       "      <td>-0.546172</td>\n",
       "      <td>-0.124758</td>\n",
       "      <td>1.046780</td>\n",
       "      <td>-0.089474</td>\n",
       "      <td>0.363674</td>\n",
       "      <td>0.215692</td>\n",
       "      <td>0.225698</td>\n",
       "      <td>24.08</td>\n",
       "      <td>0</td>\n",
       "    </tr>\n",
       "    <tr>\n",
       "      <th>8</th>\n",
       "      <td>171058.0</td>\n",
       "      <td>-2.121785</td>\n",
       "      <td>-1.518485</td>\n",
       "      <td>2.667942</td>\n",
       "      <td>-2.458839</td>\n",
       "      <td>-1.414952</td>\n",
       "      <td>0.807935</td>\n",
       "      <td>-1.870160</td>\n",
       "      <td>0.516477</td>\n",
       "      <td>-0.553359</td>\n",
       "      <td>...</td>\n",
       "      <td>-0.079591</td>\n",
       "      <td>0.659885</td>\n",
       "      <td>-1.000976</td>\n",
       "      <td>-0.212991</td>\n",
       "      <td>0.420722</td>\n",
       "      <td>-0.019645</td>\n",
       "      <td>-0.482792</td>\n",
       "      <td>-0.407780</td>\n",
       "      <td>28.00</td>\n",
       "      <td>0</td>\n",
       "    </tr>\n",
       "    <tr>\n",
       "      <th>9</th>\n",
       "      <td>79450.0</td>\n",
       "      <td>-2.254788</td>\n",
       "      <td>-0.955967</td>\n",
       "      <td>0.590596</td>\n",
       "      <td>0.114744</td>\n",
       "      <td>-5.876531</td>\n",
       "      <td>3.364858</td>\n",
       "      <td>6.365904</td>\n",
       "      <td>-1.252960</td>\n",
       "      <td>0.243849</td>\n",
       "      <td>...</td>\n",
       "      <td>-0.601908</td>\n",
       "      <td>-0.092918</td>\n",
       "      <td>0.517855</td>\n",
       "      <td>0.534361</td>\n",
       "      <td>0.494493</td>\n",
       "      <td>0.301414</td>\n",
       "      <td>0.507071</td>\n",
       "      <td>-0.560888</td>\n",
       "      <td>1354.98</td>\n",
       "      <td>0</td>\n",
       "    </tr>\n",
       "  </tbody>\n",
       "</table>\n",
       "<p>10 rows × 31 columns</p>\n",
       "</div>"
      ],
      "text/plain": [
       "       Time        V1        V2        V3        V4        V5        V6  \\\n",
       "0   38355.0  1.043949  0.318555  1.045810  2.805989 -0.561113 -0.367956   \n",
       "1   22555.0 -1.665159  0.808440  1.805627  1.903416 -0.821627  0.934790   \n",
       "2    2431.0 -0.324096  0.601836  0.865329 -2.138000  0.294663 -1.251553   \n",
       "3   86773.0 -0.258270  1.217501 -0.585348 -0.875347  1.222481 -0.311027   \n",
       "4  127202.0  2.142162 -0.494988 -1.936511 -0.818288 -0.025213 -1.027245   \n",
       "5   37590.0 -6.341667  1.192815 -3.686579 -2.754006 -5.007164  3.988118   \n",
       "6   56739.0 -0.463928  0.204745  2.795734  1.546200 -0.720374  1.108212   \n",
       "7     912.0 -1.394619  0.554224 -0.617805 -0.313706  2.157413  3.537534   \n",
       "8  171058.0 -2.121785 -1.518485  2.667942 -2.458839 -1.414952  0.807935   \n",
       "9   79450.0 -2.254788 -0.955967  0.590596  0.114744 -5.876531  3.364858   \n",
       "\n",
       "         V7         V8        V9  ...       V21       V22       V23       V24  \\\n",
       "0  0.032736  -0.042333 -0.322674  ... -0.240105 -0.680315  0.085328  0.684812   \n",
       "1 -0.824802   0.975890  1.747469  ... -0.335332 -0.510994  0.035839  0.147565   \n",
       "2  1.072114  -0.334896  1.071268  ...  0.012220  0.352856 -0.341505 -0.145791   \n",
       "3  1.073860  -0.161408  0.200665  ... -0.424626 -0.781158  0.019316  0.178614   \n",
       "4 -0.151627  -0.305750 -0.869482  ...  0.010115  0.021722  0.079463 -0.480899   \n",
       "5  1.693606 -13.577522  2.557965  ...  9.779321 -3.660198 -1.507217 -0.179185   \n",
       "6 -0.581133   0.544075  1.099843  ...  0.094431  0.788161 -0.100344  0.126248   \n",
       "7 -0.567305   1.380888 -0.112291  ... -0.196300 -0.546172 -0.124758  1.046780   \n",
       "8 -1.870160   0.516477 -0.553359  ... -0.079591  0.659885 -1.000976 -0.212991   \n",
       "9  6.365904  -1.252960  0.243849  ... -0.601908 -0.092918  0.517855  0.534361   \n",
       "\n",
       "        V25       V26       V27       V28   Amount  Class  \n",
       "0  0.318620 -0.204963  0.001662  0.037894    49.67      0  \n",
       "1 -0.529358 -0.566950 -0.595998 -0.220086    16.94      0  \n",
       "2  0.094194 -0.804026  0.229428 -0.021623     1.00      0  \n",
       "3 -0.315616  0.096665  0.269740 -0.020635    10.78      0  \n",
       "4  0.023846 -0.279076 -0.030121 -0.043888    39.96      0  \n",
       "5  0.002092 -0.019168  3.611243 -0.894494  1437.08      0  \n",
       "6 -0.461584 -0.200985  0.280168  0.180046    11.10      0  \n",
       "7 -0.089474  0.363674  0.215692  0.225698    24.08      0  \n",
       "8  0.420722 -0.019645 -0.482792 -0.407780    28.00      0  \n",
       "9  0.494493  0.301414  0.507071 -0.560888  1354.98      0  \n",
       "\n",
       "[10 rows x 31 columns]"
      ]
     },
     "execution_count": 5,
     "metadata": {},
     "output_type": "execute_result"
    }
   ],
   "source": [
    "dftrain.head(10)"
   ]
  },
  {
   "cell_type": "code",
   "execution_count": 3,
   "metadata": {},
   "outputs": [
    {
     "data": {
      "text/plain": [
       "False"
      ]
     },
     "execution_count": 3,
     "metadata": {},
     "output_type": "execute_result"
    }
   ],
   "source": [
    "#Finding the Null Values of the training dataset\n",
    "dftrain.isnull().values.any()"
   ]
  },
  {
   "cell_type": "code",
   "execution_count": 3,
   "metadata": {},
   "outputs": [
    {
     "data": {
      "text/plain": [
       "Text(0, 0.5, 'Frequency')"
      ]
     },
     "execution_count": 3,
     "metadata": {},
     "output_type": "execute_result"
    },
    {
     "data": {
      "image/png": "[encoded data removed]",
      "text/plain": [
       "<Figure size 432x288 with 1 Axes>"
      ]
     },
     "metadata": {
      "needs_background": "light"
     },
     "output_type": "display_data"
    }
   ],
   "source": [
    "count_classes = pd.value_counts(dftrain['Class'],sort=True)\n",
    "count_classes.plot(kind='bar',rot=0)\n",
    "plt.title('Transaction Distribution')\n",
    "plt.xticks(range(2),LABELS)\n",
    "plt.xlabel('Class')\n",
    "plt.ylabel('Frequency')"
   ]
  },
  {
   "cell_type": "markdown",
   "metadata": {},
   "source": [
    "### There are more than 250000 normal transactions"
   ]
  },
  {
   "cell_type": "code",
   "execution_count": 10,
   "metadata": {},
   "outputs": [],
   "source": [
    "#Get the fraud and the normal dataset transactions\n",
    "fraud = dftrain[dftrain['Class']==1]\n",
    "normal = dftrain[dftrain['Class']==0]"
   ]
  },
  {
   "cell_type": "code",
   "execution_count": 12,
   "metadata": {},
   "outputs": [
    {
     "name": "stdout",
     "output_type": "stream",
     "text": [
      "(394, 31) (227451, 31)\n"
     ]
    }
   ],
   "source": [
    "print(fraud.shape,normal.shape)"
   ]
  },
  {
   "cell_type": "markdown",
   "metadata": {},
   "source": [
    "### Normal transactions:227451 , Fraud: 394"
   ]
  },
  {
   "cell_type": "code",
   "execution_count": 11,
   "metadata": {
    "collapsed": true
   },
   "outputs": [
    {
     "data": {
      "text/plain": [
       "count     394.000000\n",
       "mean      127.306523\n",
       "std       264.533907\n",
       "min         0.000000\n",
       "25%         1.000000\n",
       "50%        11.395000\n",
       "75%       106.385000\n",
       "max      2125.870000\n",
       "Name: Amount, dtype: float64"
      ]
     },
     "execution_count": 11,
     "metadata": {},
     "output_type": "execute_result"
    }
   ],
   "source": [
    "#How different are the amount of money used in different transaction classes\n",
    "fraud.Amount.describe()"
   ]
  },
  {
   "cell_type": "code",
   "execution_count": 14,
   "metadata": {},
   "outputs": [
    {
     "data": {
      "image/png": "[encoded data removed]",
      "text/plain": [
       "<Figure size 432x288 with 2 Axes>"
      ]
     },
     "metadata": {
      "needs_background": "light"
     },
     "output_type": "display_data"
    }
   ],
   "source": [
    "#How often fraud transactions occur more often during the certain  time?\n",
    "\n",
    "f,(ax1,ax2) = plt.subplots(2,1,sharex=True)\n",
    "f.suptitle('Time of Transactions vs Amount By Class')\n",
    "ax1.scatter(fraud.Time,fraud.Amount)\n",
    "ax1.set_title('Fraud')\n",
    "ax2.scatter(normal.Time,normal.Amount)\n",
    "ax2.set_title('Normal')\n",
    "plt.xlabel('Time (in seconds)')\n",
    "plt.ylabel('Amount')\n",
    "plt.show()"
   ]
  },
  {
   "cell_type": "code",
   "execution_count": 4,
   "metadata": {},
   "outputs": [
    {
     "data": {
      "text/plain": [
       "(22784, 31)"
      ]
     },
     "execution_count": 4,
     "metadata": {},
     "output_type": "execute_result"
    }
   ],
   "source": [
    "#Take data sample of 10%\n",
    "data = dftrain.sample(frac=0.1,random_state=1)\n",
    "data.shape"
   ]
  },
  {
   "cell_type": "code",
   "execution_count": 16,
   "metadata": {},
   "outputs": [],
   "source": [
    "fraud = data[data['Class']==1]\n",
    "normal = data[data['Class']==0]\n",
    "\n",
    "outlier_fraction = len(fraud)/float(len(normal))"
   ]
  },
  {
   "cell_type": "code",
   "execution_count": 17,
   "metadata": {},
   "outputs": [
    {
     "name": "stdout",
     "output_type": "stream",
     "text": [
      "0.0020671152746624443\n",
      "Fraud Cases:47\n",
      "Normal Cases:22737\n"
     ]
    }
   ],
   "source": [
    "print (outlier_fraction)\n",
    "print(\"Fraud Cases:{}\".format(len(fraud)))\n",
    "print(\"Normal Cases:{}\".format(len(normal)))"
   ]
  },
  {
   "cell_type": "code",
   "execution_count": 18,
   "metadata": {},
   "outputs": [
    {
     "name": "stdout",
     "output_type": "stream",
     "text": [
      "(22784, 30)\n",
      "(22784,)\n"
     ]
    }
   ],
   "source": [
    "#Independent & dependent features\n",
    "columns = data.columns.tolist()\n",
    "#Remove the class column as target column\n",
    "columns=[c for c in columns if c not in [\"Class\"]]\n",
    "target = \"Class\"\n",
    "state = np.random.RandomState(42)\n",
    "X=data[columns]\n",
    "y=data[target]\n",
    "X_outliers = state.uniform(low=0,high=1,size=(X.shape[0],X.shape[1]))\n",
    "\n",
    "print(X.shape)\n",
    "print(y.shape)"
   ]
  },
  {
   "cell_type": "markdown",
   "metadata": {},
   "source": [
    "### Model Prediction using Isolation Forest\n",
    "+ It is an technique to find the anomalies in the dataset.\n",
    "+ It has a low time complexity & a small memory requirement.\n",
    "+ A few conditions are needed to separate the cases from the normal observations."
   ]
  },
  {
   "cell_type": "code",
   "execution_count": 19,
   "metadata": {},
   "outputs": [],
   "source": [
    "from sklearn.ensemble import IsolationForest\n",
    "#Outlier Detection Method\n",
    "classifiers={\n",
    "    \"Isolation Forest\":IsolationForest(n_estimators=100,max_samples=len(X),\n",
    "                                                      contamination=outlier_fraction,random_state=state,verbose=0)\n",
    "}"
   ]
  },
  {
   "cell_type": "code",
   "execution_count": 22,
   "metadata": {},
   "outputs": [],
   "source": [
    "n_outliers = len(fraud)\n",
    "for i, (clf_name,clf) in enumerate(classifiers.items()):\n",
    "#Fit the data and find the outliers\n",
    "    if clf_name == \"Isolation Forest\":\n",
    "        clf.fit(X)\n",
    "        scores_prediction = clf.decision_function(X)\n",
    "        y_pred = clf.predict(X)"
   ]
  },
  {
   "cell_type": "code",
   "execution_count": 25,
   "metadata": {},
   "outputs": [
    {
     "name": "stdout",
     "output_type": "stream",
     "text": [
      "Isolation Forest:47\n",
      "Accuracy Score:\n",
      "0.9979371488764045\n",
      "Classification Report:\n",
      "              precision    recall  f1-score   support\n",
      "\n",
      "           0       1.00      1.00      1.00     22737\n",
      "           1       0.00      0.00      0.00        47\n",
      "\n",
      "    accuracy                           1.00     22784\n",
      "   macro avg       0.50      0.50      0.50     22784\n",
      "weighted avg       1.00      1.00      1.00     22784\n",
      "\n"
     ]
    },
    {
     "name": "stderr",
     "output_type": "stream",
     "text": [
      "C:\\Users\\Ravi\\Anaconda3\\lib\\site-packages\\sklearn\\metrics\\_classification.py:1221: UndefinedMetricWarning: Precision and F-score are ill-defined and being set to 0.0 in labels with no predicted samples. Use `zero_division` parameter to control this behavior.\n",
      "  _warn_prf(average, modifier, msg_start, len(result))\n",
      "C:\\Users\\Ravi\\Anaconda3\\lib\\site-packages\\sklearn\\metrics\\_classification.py:1221: UndefinedMetricWarning: Precision and F-score are ill-defined and being set to 0.0 in labels with no predicted samples. Use `zero_division` parameter to control this behavior.\n",
      "  _warn_prf(average, modifier, msg_start, len(result))\n",
      "C:\\Users\\Ravi\\Anaconda3\\lib\\site-packages\\sklearn\\metrics\\_classification.py:1221: UndefinedMetricWarning: Precision and F-score are ill-defined and being set to 0.0 in labels with no predicted samples. Use `zero_division` parameter to control this behavior.\n",
      "  _warn_prf(average, modifier, msg_start, len(result))\n"
     ]
    }
   ],
   "source": [
    "#Predict values 0 for fraud transactions & 1 for normal transactions\n",
    "y_pred[y_pred==1]=0\n",
    "y_pred[y_pred==-1]=1\n",
    "\n",
    "n_errors = (y_pred!=y).sum()\n",
    "#Classification metrics\n",
    "\n",
    "print(\"{}:{}\".format(clf_name,n_errors))\n",
    "print(\"Accuracy Score:\")\n",
    "print(accuracy_score(y,y_pred))\n",
    "print(\"Classification Report:\")\n",
    "print(classification_report(y,y_pred))"
   ]
  }
 ],
 "metadata": {
  "kernelspec": {
   "display_name": "Python 3",
   "language": "python",
   "name": "python3"
  },
  "language_info": {
   "codemirror_mode": {
    "name": "ipython",
    "version": 3
   },
   "file_extension": ".py",
   "mimetype": "text/x-python",
   "name": "python",
   "nbconvert_exporter": "python",
   "pygments_lexer": "ipython3",
   "version": "3.7.3"
  }
 },
 "nbformat": 4,
 "nbformat_minor": 2
}
